{
 "cells": [
  {
   "cell_type": "markdown",
   "metadata": {},
   "source": [
    "# Mining Challenge Sample Notebook\n",
    "\n",
    "This notebook gives a small example of working with our data.\n",
    "\n",
    "## Imports and Database Connection"
   ]
  },
  {
   "cell_type": "code",
   "execution_count": 1,
   "metadata": {},
   "outputs": [
    {
     "data": {
      "text/plain": [
       "MongoClient(host=['localhost:27017'], document_class=dict, tz_aware=False, connect=True, read_preference=Primary())"
      ]
     },
     "execution_count": 1,
     "metadata": {},
     "output_type": "execute_result"
    }
   ],
   "source": [
    "import re\n",
    "from mongoengine import connect\n",
    "from pycoshark.mongomodels import Project, VCSSystem, Commit, FileAction, Hunk, Refactoring, IssueSystem, Issue, IssueComment, MailingList, Message\n",
    "from pycoshark.utils import create_mongodb_uri_string\n",
    "\n",
    "\n",
    "# You may have to update this dict to match your DB credentials\n",
    "credentials = {'db_user': '',\n",
    "               'db_password': '',\n",
    "               'db_hostname': 'localhost',\n",
    "               'db_port': 27017,\n",
    "               'db_authentication_database': '',\n",
    "               'db_ssl_enabled': False}\n",
    "\n",
    "uri = create_mongodb_uri_string(**credentials)\n",
    "\n",
    "connect('smartshark_sample', host=uri, alias='default')"
   ]
  },
  {
   "cell_type": "markdown",
   "metadata": {},
   "source": [
    "## Working with commits"
   ]
  },
  {
   "cell_type": "code",
   "execution_count": 2,
   "metadata": {},
   "outputs": [
    {
     "ename": "DoesNotExist",
     "evalue": "Project matching query does not exist.",
     "output_type": "error",
     "traceback": [
      "\u001b[0;31m---------------------------------------------------------------------------\u001b[0m",
      "\u001b[0;31mStopIteration\u001b[0m                             Traceback (most recent call last)",
      "File \u001b[0;32m~/smart shark/usage-examples/venv/lib/python3.8/site-packages/mongoengine/queryset/base.py:266\u001b[0m, in \u001b[0;36mBaseQuerySet.get\u001b[0;34m(self, *q_objs, **query)\u001b[0m\n\u001b[1;32m    265\u001b[0m \u001b[38;5;28;01mtry\u001b[39;00m:\n\u001b[0;32m--> 266\u001b[0m     result \u001b[38;5;241m=\u001b[39m \u001b[38;5;28;43mnext\u001b[39;49m\u001b[43m(\u001b[49m\u001b[43mqueryset\u001b[49m\u001b[43m)\u001b[49m\n\u001b[1;32m    267\u001b[0m \u001b[38;5;28;01mexcept\u001b[39;00m \u001b[38;5;167;01mStopIteration\u001b[39;00m:\n",
      "File \u001b[0;32m~/smart shark/usage-examples/venv/lib/python3.8/site-packages/mongoengine/queryset/base.py:1572\u001b[0m, in \u001b[0;36mBaseQuerySet.__next__\u001b[0;34m(self)\u001b[0m\n\u001b[1;32m   1570\u001b[0m     \u001b[38;5;28;01mraise\u001b[39;00m \u001b[38;5;167;01mStopIteration\u001b[39;00m\n\u001b[0;32m-> 1572\u001b[0m raw_doc \u001b[38;5;241m=\u001b[39m \u001b[38;5;28;43mnext\u001b[39;49m\u001b[43m(\u001b[49m\u001b[38;5;28;43mself\u001b[39;49m\u001b[38;5;241;43m.\u001b[39;49m\u001b[43m_cursor\u001b[49m\u001b[43m)\u001b[49m\n\u001b[1;32m   1574\u001b[0m \u001b[38;5;28;01mif\u001b[39;00m \u001b[38;5;28mself\u001b[39m\u001b[38;5;241m.\u001b[39m_as_pymongo:\n",
      "File \u001b[0;32m~/smart shark/usage-examples/venv/lib/python3.8/site-packages/pymongo/cursor.py:1246\u001b[0m, in \u001b[0;36mCursor.next\u001b[0;34m(self)\u001b[0m\n\u001b[1;32m   1245\u001b[0m \u001b[38;5;28;01melse\u001b[39;00m:\n\u001b[0;32m-> 1246\u001b[0m     \u001b[38;5;28;01mraise\u001b[39;00m \u001b[38;5;167;01mStopIteration\u001b[39;00m\n",
      "\u001b[0;31mStopIteration\u001b[0m: ",
      "\nDuring handling of the above exception, another exception occurred:\n",
      "\u001b[0;31mDoesNotExist\u001b[0m                              Traceback (most recent call last)",
      "Cell \u001b[0;32mIn[2], line 2\u001b[0m\n\u001b[1;32m      1\u001b[0m \u001b[38;5;66;03m# We first need the the project from the database\u001b[39;00m\n\u001b[0;32m----> 2\u001b[0m project \u001b[38;5;241m=\u001b[39m \u001b[43mProject\u001b[49m\u001b[38;5;241;43m.\u001b[39;49m\u001b[43mobjects\u001b[49m\u001b[43m(\u001b[49m\u001b[43mname\u001b[49m\u001b[38;5;241;43m=\u001b[39;49m\u001b[38;5;124;43m'\u001b[39;49m\u001b[38;5;124;43mgiraph\u001b[39;49m\u001b[38;5;124;43m'\u001b[39;49m\u001b[43m)\u001b[49m\u001b[38;5;241;43m.\u001b[39;49m\u001b[43mget\u001b[49m\u001b[43m(\u001b[49m\u001b[43m)\u001b[49m\n\u001b[1;32m      4\u001b[0m \u001b[38;5;66;03m# We now select the version control system of the project\u001b[39;00m\n\u001b[1;32m      5\u001b[0m vcs_system \u001b[38;5;241m=\u001b[39m VCSSystem\u001b[38;5;241m.\u001b[39mobjects(project_id\u001b[38;5;241m=\u001b[39mproject\u001b[38;5;241m.\u001b[39mid)\u001b[38;5;241m.\u001b[39mget()\n",
      "File \u001b[0;32m~/smart shark/usage-examples/venv/lib/python3.8/site-packages/mongoengine/queryset/base.py:269\u001b[0m, in \u001b[0;36mBaseQuerySet.get\u001b[0;34m(self, *q_objs, **query)\u001b[0m\n\u001b[1;32m    267\u001b[0m \u001b[38;5;28;01mexcept\u001b[39;00m \u001b[38;5;167;01mStopIteration\u001b[39;00m:\n\u001b[1;32m    268\u001b[0m     msg \u001b[38;5;241m=\u001b[39m \u001b[38;5;124m\"\u001b[39m\u001b[38;5;132;01m%s\u001b[39;00m\u001b[38;5;124m matching query does not exist.\u001b[39m\u001b[38;5;124m\"\u001b[39m \u001b[38;5;241m%\u001b[39m queryset\u001b[38;5;241m.\u001b[39m_document\u001b[38;5;241m.\u001b[39m_class_name\n\u001b[0;32m--> 269\u001b[0m     \u001b[38;5;28;01mraise\u001b[39;00m queryset\u001b[38;5;241m.\u001b[39m_document\u001b[38;5;241m.\u001b[39mDoesNotExist(msg)\n\u001b[1;32m    271\u001b[0m \u001b[38;5;28;01mtry\u001b[39;00m:\n\u001b[1;32m    272\u001b[0m     \u001b[38;5;66;03m# Check if there is another match\u001b[39;00m\n\u001b[1;32m    273\u001b[0m     \u001b[38;5;28mnext\u001b[39m(queryset)\n",
      "\u001b[0;31mDoesNotExist\u001b[0m: Project matching query does not exist."
     ]
    }
   ],
   "source": [
    "# We first need the the project from the database\n",
    "project = Project.objects(name='giraph').get()\n",
    "\n",
    "# We now select the version control system of the project\n",
    "vcs_system = VCSSystem.objects(project_id=project.id).get()\n",
    "\n",
    "print('VCS System:', vcs_system.url)\n",
    "\n",
    "# We can now fetch the commits and analyze them\n",
    "num_commits = Commit.objects(vcs_system_id=vcs_system.id).count()\n",
    "\n",
    "print('Number of commits:', num_commits)\n",
    "\n",
    "count_bugfix = 0\n",
    "count_linked_issue = 0\n",
    "count_hunks = 0\n",
    "count_refactorings_refdiff = 0\n",
    "count_refactorings_refactoringminer = 0\n",
    "\n",
    "# Only limits the fields we are reading to the required fields. This is important for the performance.\n",
    "for commit in Commit.objects(vcs_system_id=vcs_system.id).only('labels', 'linked_issue_ids'):\n",
    "    if commit.labels is not None and 'validated_bugfix' in commit.labels and commit.labels['validated_bugfix']==True:\n",
    "        count_bugfix += 1\n",
    "    if commit.linked_issue_ids is not None and len(commit.linked_issue_ids)>0:\n",
    "        count_linked_issue += 1\n",
    "        \n",
    "    # File actions group all changed hunks in a commit of the same file\n",
    "    for fa in FileAction.objects(commit_id=commit.id):\n",
    "        count_hunks += Hunk.objects(file_action_id=fa.id).count()\n",
    "        \n",
    "    count_refactorings_refdiff += Refactoring.objects(commit_id=commit.id, detection_tool='\"refDiff\"').count()\n",
    "    count_refactorings_refactoringminer += Refactoring.objects(commit_id=commit.id, detection_tool='rMiner').count()\n",
    "\n",
    "print('Number of bug fixing commits:', count_bugfix)\n",
    "print('Number of commits that link to a Jira issue:', count_linked_issue)\n",
    "print('Number of hunks for all commits:', count_hunks)\n",
    "print('Number of refactorings detected by refDiff:', count_refactorings_refdiff)\n",
    "print('Number of refactorings detected by RefactoringMiner:', count_refactorings_refactoringminer)"
   ]
  },
  {
   "cell_type": "markdown",
   "metadata": {},
   "source": [
    "## Working with issues"
   ]
  },
  {
   "cell_type": "code",
   "execution_count": 3,
   "metadata": {},
   "outputs": [
    {
     "name": "stdout",
     "output_type": "stream",
     "text": [
      "Issue Tracker: https://issues.apache.org/jira/rest/api/2/search?jql=project=GIRAPH\n",
      "Number of issues: 1232\n",
      "Number of comments in discussions: 6759\n",
      "Number of issues referenced by commits: 787\n",
      "Number of issues labeled as bugs by developers: 534\n",
      "Number of issues labeled validated as bug by researchers: 140\n"
     ]
    }
   ],
   "source": [
    "# We first need the the project from the database\n",
    "project = Project.objects(name='giraph').get()\n",
    "\n",
    "# We now select the issue tracking system of the project\n",
    "# Please note that some projects have multiple issue trackers\n",
    "# In this case get() would fail and you would need to loop over them\n",
    "issue_tracker = IssueSystem.objects(project_id=project.id).get()\n",
    "\n",
    "print('Issue Tracker:', issue_tracker.url)\n",
    "\n",
    "# we can now work with the issues\n",
    "num_issues = Issue.objects(issue_system_id=issue_tracker.id).count()\n",
    "\n",
    "print('Number of issues:', num_issues)\n",
    "\n",
    "count_comments = 0\n",
    "count_referenced_by_commits = 0\n",
    "count_bugs_dev_label = 0\n",
    "count_bugs_validated = 0\n",
    "\n",
    "for issue in Issue.objects(issue_system_id=issue_tracker.id):\n",
    "    count_comments += IssueComment.objects(issue_id=issue.id).count()\n",
    "    if issue.issue_type is not None and issue.issue_type.lower()=='bug':\n",
    "        count_bugs_dev_label += 1\n",
    "    if issue.issue_type_verified is not None and issue.issue_type_verified.lower()=='bug':\n",
    "        count_bugs_validated += 1\n",
    "    if Commit.objects(linked_issue_ids=issue.id).count()>0:\n",
    "        count_referenced_by_commits += 1\n",
    "        \n",
    "print('Number of comments in discussions:', count_comments)\n",
    "print('Number of issues referenced by commits:', count_referenced_by_commits)\n",
    "print('Number of issues labeled as bugs by developers:', count_bugs_dev_label)\n",
    "print('Number of issues labeled validated as bug by researchers:', count_bugs_validated)"
   ]
  },
  {
   "cell_type": "markdown",
   "metadata": {},
   "source": [
    "## Working with the Mailing List"
   ]
  },
  {
   "cell_type": "code",
   "execution_count": 4,
   "metadata": {},
   "outputs": [
    {
     "name": "stdout",
     "output_type": "stream",
     "text": [
      "Mailing List: http://mail-archives.apache.org/mod_mbox/giraph-dev\n",
      "Number of Emails: 12872\n",
      "Number of emails that reference a Jira issue: 10750\n",
      "Mailing List: http://mail-archives.apache.org/mod_mbox/giraph-user\n",
      "Number of Emails: 3742\n",
      "Number of emails that reference a Jira issue: 902\n"
     ]
    }
   ],
   "source": [
    "# We first need the the project from the database\n",
    "project = Project.objects(name='giraph').get()\n",
    "\n",
    "# We now select the mailing list of the project\n",
    "# Since we have two mailing lists, we need to loop over them\n",
    "mailing_lists = MailingList.objects(project_id=project.id)\n",
    "for mailing_list in mailing_lists:\n",
    "    print('Mailing List:', mailing_list.name)\n",
    "\n",
    "    # We can now access the messages\n",
    "    count_emails = Message.objects(mailing_list_id=mailing_list.id).count()\n",
    "\n",
    "    print('Number of Emails:', count_emails)\n",
    "\n",
    "    count_references_jira = 0\n",
    "    \n",
    "    jira_id = re.compile('GIRAPH-[0-9]+', re.I | re.M)\n",
    "    for message in Message.objects(mailing_list_id=mailing_list.id):\n",
    "        if message.body is not None and jira_id.search(message.body):\n",
    "            count_references_jira += 1\n",
    "            \n",
    "    print('Number of emails that reference a Jira issue:', count_references_jira)"
   ]
  }
 ],
 "metadata": {
  "kernelspec": {
   "display_name": "Python 3 (ipykernel)",
   "language": "python",
   "name": "python3"
  },
  "language_info": {
   "codemirror_mode": {
    "name": "ipython",
    "version": 3
   },
   "file_extension": ".py",
   "mimetype": "text/x-python",
   "name": "python",
   "nbconvert_exporter": "python",
   "pygments_lexer": "ipython3",
   "version": "3.8.10"
  }
 },
 "nbformat": 4,
 "nbformat_minor": 2
}
